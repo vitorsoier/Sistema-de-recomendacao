{
 "cells": [
  {
   "attachments": {},
   "cell_type": "markdown",
   "metadata": {},
   "source": [
    "# Sistema de recomendação para filmes do IMDB"
   ]
  },
  {
   "attachments": {},
   "cell_type": "markdown",
   "metadata": {},
   "source": [
    "Inicialmente utilizamos a API do IMDB para pegar a base de filmes com 10.000 filmes. Partindo dessa base vamos montar um sistema de recomendação Content-Based.\n",
    "Para este estudo primeiro iremos vetorizar nossos filmes e comparar eles através da similaridade de cossenos. O intuito deste notebook é aprofundar e explorar conceitos usados na criação de modelos de machine learning, principalmente em sistemas de recomendações."
   ]
  },
  {
   "attachments": {},
   "cell_type": "markdown",
   "metadata": {},
   "source": [
    "Existem três tipos de sistemas de recomendações:\n",
    "\n",
    "*  Content-based filtering: Esse sistema de recomendação leva em consideração itens curtidos anteriormente pelo usuário para fazer novas recomendações de produtos. Por exemplo se o usuário gostou de filmes de comédia, novos filmes desse gênero serão recomendados a ele. Esse filtro pode ser aplicado ao item e ao usuário.\n",
    "\n",
    "* Collaborative filtering: Observa as semlhanças entre itens e usuários ao mesmo tempo. Ele leva em consideração similiridade de gostos de usuários e quais itens eles gostaram. Por exemplo: usuário A consome filmes semelhantes ao usuário B, logo, se o usuário A experimentar e gostar de um novo filme o sistema recomendará para o usuário B.\n",
    "\n",
    "* Hybrid: É uma combinação entre os dois metódos citados anteriormente.\n",
    "\n",
    "No nosso modelos adotaremos um sistema do primeiro tipo."
   ]
  },
  {
   "attachments": {},
   "cell_type": "markdown",
   "metadata": {},
   "source": [
    "## Importando bibliotecas"
   ]
  },
  {
   "cell_type": "code",
   "execution_count": 2,
   "metadata": {},
   "outputs": [],
   "source": [
    "import pandas as pd\n",
    "from sklearn.feature_extraction.text import TfidfVectorizer\n",
    "from sklearn.decomposition import TruncatedSVD\n",
    "from sklearn.metrics.pairwise import cosine_similarity"
   ]
  },
  {
   "attachments": {},
   "cell_type": "markdown",
   "metadata": {},
   "source": [
    "## Importando e verificando dados"
   ]
  },
  {
   "cell_type": "code",
   "execution_count": 3,
   "metadata": {},
   "outputs": [
    {
     "data": {
      "text/html": [
       "<div>\n",
       "<style scoped>\n",
       "    .dataframe tbody tr th:only-of-type {\n",
       "        vertical-align: middle;\n",
       "    }\n",
       "\n",
       "    .dataframe tbody tr th {\n",
       "        vertical-align: top;\n",
       "    }\n",
       "\n",
       "    .dataframe thead th {\n",
       "        text-align: right;\n",
       "    }\n",
       "</style>\n",
       "<table border=\"1\" class=\"dataframe\">\n",
       "  <thead>\n",
       "    <tr style=\"text-align: right;\">\n",
       "      <th></th>\n",
       "      <th>id</th>\n",
       "      <th>id_genero</th>\n",
       "      <th>titulo</th>\n",
       "      <th>resumo</th>\n",
       "      <th>lancamento</th>\n",
       "      <th>idioma_original</th>\n",
       "    </tr>\n",
       "  </thead>\n",
       "  <tbody>\n",
       "    <tr>\n",
       "      <th>0</th>\n",
       "      <td>238</td>\n",
       "      <td>[18, 80]</td>\n",
       "      <td>The Godfather</td>\n",
       "      <td>Spanning the years 1945 to 1955, a chronicle o...</td>\n",
       "      <td>1972-03-14</td>\n",
       "      <td>en</td>\n",
       "    </tr>\n",
       "    <tr>\n",
       "      <th>1</th>\n",
       "      <td>278</td>\n",
       "      <td>[18, 80]</td>\n",
       "      <td>The Shawshank Redemption</td>\n",
       "      <td>Framed in the 1940s for the double murder of h...</td>\n",
       "      <td>1994-09-23</td>\n",
       "      <td>en</td>\n",
       "    </tr>\n",
       "    <tr>\n",
       "      <th>2</th>\n",
       "      <td>569094</td>\n",
       "      <td>[28, 12, 16, 878]</td>\n",
       "      <td>Spider-Man: Across the Spider-Verse</td>\n",
       "      <td>After reuniting with Gwen Stacy, Brooklyn’s fu...</td>\n",
       "      <td>2023-05-31</td>\n",
       "      <td>en</td>\n",
       "    </tr>\n",
       "    <tr>\n",
       "      <th>3</th>\n",
       "      <td>240</td>\n",
       "      <td>[18, 80]</td>\n",
       "      <td>The Godfather Part II</td>\n",
       "      <td>In the continuing saga of the Corleone crime f...</td>\n",
       "      <td>1974-12-20</td>\n",
       "      <td>en</td>\n",
       "    </tr>\n",
       "    <tr>\n",
       "      <th>4</th>\n",
       "      <td>424</td>\n",
       "      <td>[18, 36, 10752]</td>\n",
       "      <td>Schindler's List</td>\n",
       "      <td>The true story of how businessman Oskar Schind...</td>\n",
       "      <td>1993-12-15</td>\n",
       "      <td>en</td>\n",
       "    </tr>\n",
       "  </tbody>\n",
       "</table>\n",
       "</div>"
      ],
      "text/plain": [
       "       id          id_genero                               titulo  \\\n",
       "0     238           [18, 80]                        The Godfather   \n",
       "1     278           [18, 80]             The Shawshank Redemption   \n",
       "2  569094  [28, 12, 16, 878]  Spider-Man: Across the Spider-Verse   \n",
       "3     240           [18, 80]                The Godfather Part II   \n",
       "4     424    [18, 36, 10752]                     Schindler's List   \n",
       "\n",
       "                                              resumo  lancamento  \\\n",
       "0  Spanning the years 1945 to 1955, a chronicle o...  1972-03-14   \n",
       "1  Framed in the 1940s for the double murder of h...  1994-09-23   \n",
       "2  After reuniting with Gwen Stacy, Brooklyn’s fu...  2023-05-31   \n",
       "3  In the continuing saga of the Corleone crime f...  1974-12-20   \n",
       "4  The true story of how businessman Oskar Schind...  1993-12-15   \n",
       "\n",
       "  idioma_original  \n",
       "0              en  \n",
       "1              en  \n",
       "2              en  \n",
       "3              en  \n",
       "4              en  "
      ]
     },
     "execution_count": 3,
     "metadata": {},
     "output_type": "execute_result"
    }
   ],
   "source": [
    "def load_csv_data(path):\n",
    "    df = pd.read_csv(path)\n",
    "    return df\n",
    "\n",
    "df_filmes = load_csv_data('dados/filmes.csv')\n",
    "df_filmes.head()"
   ]
  },
  {
   "cell_type": "code",
   "execution_count": 4,
   "metadata": {},
   "outputs": [
    {
     "name": "stdout",
     "output_type": "stream",
     "text": [
      "<class 'pandas.core.frame.DataFrame'>\n",
      "RangeIndex: 10000 entries, 0 to 9999\n",
      "Data columns (total 6 columns):\n",
      " #   Column           Non-Null Count  Dtype \n",
      "---  ------           --------------  ----- \n",
      " 0   id               10000 non-null  int64 \n",
      " 1   id_genero        10000 non-null  object\n",
      " 2   titulo           10000 non-null  object\n",
      " 3   resumo           9998 non-null   object\n",
      " 4   lancamento       10000 non-null  object\n",
      " 5   idioma_original  10000 non-null  object\n",
      "dtypes: int64(1), object(5)\n",
      "memory usage: 468.9+ KB\n"
     ]
    }
   ],
   "source": [
    "df_filmes.info()"
   ]
  },
  {
   "attachments": {},
   "cell_type": "markdown",
   "metadata": {},
   "source": [
    "Como só temos duas linhas com o resumo vazio escolhi dropar essas linhas já que não vão interferir na análise"
   ]
  },
  {
   "cell_type": "code",
   "execution_count": 5,
   "metadata": {},
   "outputs": [
    {
     "data": {
      "text/plain": [
       "9998"
      ]
     },
     "execution_count": 5,
     "metadata": {},
     "output_type": "execute_result"
    }
   ],
   "source": [
    "df_filmes = df_filmes.dropna(axis=0, how='any')\n",
    "len(df_filmes)"
   ]
  },
  {
   "attachments": {},
   "cell_type": "markdown",
   "metadata": {},
   "source": [
    "Criando a tag unindo as variaveis"
   ]
  },
  {
   "cell_type": "code",
   "execution_count": 6,
   "metadata": {},
   "outputs": [
    {
     "data": {
      "text/plain": [
       "0       Spanning the years 1945 to 1955, a chronicle o...\n",
       "1       Framed in the 1940s for the double murder of h...\n",
       "2       After reuniting with Gwen Stacy, Brooklyn’s fu...\n",
       "3       In the continuing saga of the Corleone crime f...\n",
       "4       The true story of how businessman Oskar Schind...\n",
       "                              ...                        \n",
       "9995    In the aftermath of a nuclear disaster, a star...\n",
       "9996    Vitoria-Gasteiz, Basque Country, Spain, 2019. ...\n",
       "9997    400 years into the future, disease has wiped o...\n",
       "9998    A mild-mannered guy who is engaged to a monstr...\n",
       "9999    At the end of WWII, an ambitious bootlegger an...\n",
       "Name: tags, Length: 9998, dtype: object"
      ]
     },
     "execution_count": 6,
     "metadata": {},
     "output_type": "execute_result"
    }
   ],
   "source": [
    "df_filmes['tags'] = df_filmes['resumo'] + ' ' + df_filmes['id_genero'] + ' ' + df_filmes['idioma_original'] + ' ' + df_filmes['lancamento']\n",
    "df_filmes['tags']"
   ]
  },
  {
   "cell_type": "code",
   "execution_count": 7,
   "metadata": {},
   "outputs": [
    {
     "name": "stdout",
     "output_type": "stream",
     "text": [
      "<class 'pandas.core.frame.DataFrame'>\n",
      "Index: 9998 entries, 0 to 9999\n",
      "Data columns (total 3 columns):\n",
      " #   Column  Non-Null Count  Dtype \n",
      "---  ------  --------------  ----- \n",
      " 0   id      9998 non-null   int64 \n",
      " 1   titulo  9998 non-null   object\n",
      " 2   tags    9998 non-null   object\n",
      "dtypes: int64(1), object(2)\n",
      "memory usage: 312.4+ KB\n"
     ]
    }
   ],
   "source": [
    "df_filmes_process = df_filmes[['id', 'titulo', 'tags']]\n",
    "df_filmes_process = df_filmes_process.drop_duplicates()\n",
    "df_filmes_process.info()"
   ]
  },
  {
   "attachments": {},
   "cell_type": "markdown",
   "metadata": {},
   "source": [
    "## Vetorizando os dados"
   ]
  },
  {
   "cell_type": "code",
   "execution_count": 8,
   "metadata": {},
   "outputs": [
    {
     "data": {
      "text/plain": [
       "array(['000', '007', '01', ..., 'zoo', 'zoos', 'état'], dtype=object)"
      ]
     },
     "execution_count": 8,
     "metadata": {},
     "output_type": "execute_result"
    }
   ],
   "source": [
    "tf = TfidfVectorizer(max_features=10000)\n",
    "dados_vetorizados = tf.fit_transform(df_filmes_process['tags'].values)\n",
    "tf.get_feature_names_out()"
   ]
  },
  {
   "cell_type": "code",
   "execution_count": 9,
   "metadata": {},
   "outputs": [
    {
     "data": {
      "text/html": [
       "<div>\n",
       "<style scoped>\n",
       "    .dataframe tbody tr th:only-of-type {\n",
       "        vertical-align: middle;\n",
       "    }\n",
       "\n",
       "    .dataframe tbody tr th {\n",
       "        vertical-align: top;\n",
       "    }\n",
       "\n",
       "    .dataframe thead th {\n",
       "        text-align: right;\n",
       "    }\n",
       "</style>\n",
       "<table border=\"1\" class=\"dataframe\">\n",
       "  <thead>\n",
       "    <tr style=\"text-align: right;\">\n",
       "      <th></th>\n",
       "      <th>0</th>\n",
       "      <th>1</th>\n",
       "      <th>2</th>\n",
       "      <th>3</th>\n",
       "      <th>4</th>\n",
       "      <th>5</th>\n",
       "      <th>6</th>\n",
       "      <th>7</th>\n",
       "      <th>8</th>\n",
       "      <th>9</th>\n",
       "      <th>...</th>\n",
       "      <th>9990</th>\n",
       "      <th>9991</th>\n",
       "      <th>9992</th>\n",
       "      <th>9993</th>\n",
       "      <th>9994</th>\n",
       "      <th>9995</th>\n",
       "      <th>9996</th>\n",
       "      <th>9997</th>\n",
       "      <th>9998</th>\n",
       "      <th>9999</th>\n",
       "    </tr>\n",
       "  </thead>\n",
       "  <tbody>\n",
       "    <tr>\n",
       "      <th>0</th>\n",
       "      <td>0.0</td>\n",
       "      <td>0.0</td>\n",
       "      <td>0.0</td>\n",
       "      <td>0.0</td>\n",
       "      <td>0.080317</td>\n",
       "      <td>0.0</td>\n",
       "      <td>0.000000</td>\n",
       "      <td>0.0</td>\n",
       "      <td>0.0</td>\n",
       "      <td>0.0</td>\n",
       "      <td>...</td>\n",
       "      <td>0.0</td>\n",
       "      <td>0.0</td>\n",
       "      <td>0.0</td>\n",
       "      <td>0.0</td>\n",
       "      <td>0.0</td>\n",
       "      <td>0.0</td>\n",
       "      <td>0.0</td>\n",
       "      <td>0.0</td>\n",
       "      <td>0.0</td>\n",
       "      <td>0.0</td>\n",
       "    </tr>\n",
       "    <tr>\n",
       "      <th>1</th>\n",
       "      <td>0.0</td>\n",
       "      <td>0.0</td>\n",
       "      <td>0.0</td>\n",
       "      <td>0.0</td>\n",
       "      <td>0.000000</td>\n",
       "      <td>0.0</td>\n",
       "      <td>0.000000</td>\n",
       "      <td>0.0</td>\n",
       "      <td>0.0</td>\n",
       "      <td>0.0</td>\n",
       "      <td>...</td>\n",
       "      <td>0.0</td>\n",
       "      <td>0.0</td>\n",
       "      <td>0.0</td>\n",
       "      <td>0.0</td>\n",
       "      <td>0.0</td>\n",
       "      <td>0.0</td>\n",
       "      <td>0.0</td>\n",
       "      <td>0.0</td>\n",
       "      <td>0.0</td>\n",
       "      <td>0.0</td>\n",
       "    </tr>\n",
       "    <tr>\n",
       "      <th>2</th>\n",
       "      <td>0.0</td>\n",
       "      <td>0.0</td>\n",
       "      <td>0.0</td>\n",
       "      <td>0.0</td>\n",
       "      <td>0.000000</td>\n",
       "      <td>0.0</td>\n",
       "      <td>0.069141</td>\n",
       "      <td>0.0</td>\n",
       "      <td>0.0</td>\n",
       "      <td>0.0</td>\n",
       "      <td>...</td>\n",
       "      <td>0.0</td>\n",
       "      <td>0.0</td>\n",
       "      <td>0.0</td>\n",
       "      <td>0.0</td>\n",
       "      <td>0.0</td>\n",
       "      <td>0.0</td>\n",
       "      <td>0.0</td>\n",
       "      <td>0.0</td>\n",
       "      <td>0.0</td>\n",
       "      <td>0.0</td>\n",
       "    </tr>\n",
       "    <tr>\n",
       "      <th>3</th>\n",
       "      <td>0.0</td>\n",
       "      <td>0.0</td>\n",
       "      <td>0.0</td>\n",
       "      <td>0.0</td>\n",
       "      <td>0.000000</td>\n",
       "      <td>0.0</td>\n",
       "      <td>0.000000</td>\n",
       "      <td>0.0</td>\n",
       "      <td>0.0</td>\n",
       "      <td>0.0</td>\n",
       "      <td>...</td>\n",
       "      <td>0.0</td>\n",
       "      <td>0.0</td>\n",
       "      <td>0.0</td>\n",
       "      <td>0.0</td>\n",
       "      <td>0.0</td>\n",
       "      <td>0.0</td>\n",
       "      <td>0.0</td>\n",
       "      <td>0.0</td>\n",
       "      <td>0.0</td>\n",
       "      <td>0.0</td>\n",
       "    </tr>\n",
       "    <tr>\n",
       "      <th>4</th>\n",
       "      <td>0.0</td>\n",
       "      <td>0.0</td>\n",
       "      <td>0.0</td>\n",
       "      <td>0.0</td>\n",
       "      <td>0.000000</td>\n",
       "      <td>0.0</td>\n",
       "      <td>0.000000</td>\n",
       "      <td>0.0</td>\n",
       "      <td>0.0</td>\n",
       "      <td>0.0</td>\n",
       "      <td>...</td>\n",
       "      <td>0.0</td>\n",
       "      <td>0.0</td>\n",
       "      <td>0.0</td>\n",
       "      <td>0.0</td>\n",
       "      <td>0.0</td>\n",
       "      <td>0.0</td>\n",
       "      <td>0.0</td>\n",
       "      <td>0.0</td>\n",
       "      <td>0.0</td>\n",
       "      <td>0.0</td>\n",
       "    </tr>\n",
       "  </tbody>\n",
       "</table>\n",
       "<p>5 rows × 10000 columns</p>\n",
       "</div>"
      ],
      "text/plain": [
       "   0     1     2     3         4     5         6     7     8     9     ...  \\\n",
       "0   0.0   0.0   0.0   0.0  0.080317   0.0  0.000000   0.0   0.0   0.0  ...   \n",
       "1   0.0   0.0   0.0   0.0  0.000000   0.0  0.000000   0.0   0.0   0.0  ...   \n",
       "2   0.0   0.0   0.0   0.0  0.000000   0.0  0.069141   0.0   0.0   0.0  ...   \n",
       "3   0.0   0.0   0.0   0.0  0.000000   0.0  0.000000   0.0   0.0   0.0  ...   \n",
       "4   0.0   0.0   0.0   0.0  0.000000   0.0  0.000000   0.0   0.0   0.0  ...   \n",
       "\n",
       "   9990  9991  9992  9993  9994  9995  9996  9997  9998  9999  \n",
       "0   0.0   0.0   0.0   0.0   0.0   0.0   0.0   0.0   0.0   0.0  \n",
       "1   0.0   0.0   0.0   0.0   0.0   0.0   0.0   0.0   0.0   0.0  \n",
       "2   0.0   0.0   0.0   0.0   0.0   0.0   0.0   0.0   0.0   0.0  \n",
       "3   0.0   0.0   0.0   0.0   0.0   0.0   0.0   0.0   0.0   0.0  \n",
       "4   0.0   0.0   0.0   0.0   0.0   0.0   0.0   0.0   0.0   0.0  \n",
       "\n",
       "[5 rows x 10000 columns]"
      ]
     },
     "execution_count": 9,
     "metadata": {},
     "output_type": "execute_result"
    }
   ],
   "source": [
    "df_vetorizado =  pd.DataFrame(dados_vetorizados.toarray(), index=df_filmes_process['tags'].index.tolist())\n",
    "df_vetorizado.head()"
   ]
  },
  {
   "attachments": {},
   "cell_type": "markdown",
   "metadata": {},
   "source": [
    "## Sistema de recomendação"
   ]
  },
  {
   "cell_type": "code",
   "execution_count": 12,
   "metadata": {},
   "outputs": [
    {
     "name": "stderr",
     "output_type": "stream",
     "text": [
      "d:\\python\\Sistema de recomendacao\\env\\lib\\site-packages\\sklearn\\utils\\extmath.py:189: RuntimeWarning: invalid value encountered in matmul\n",
      "  ret = a @ b\n"
     ]
    },
    {
     "data": {
      "text/plain": [
       "array([[1.        , 0.06849751, 0.02936376, ..., 0.04936903, 0.04225582,\n",
       "        0.04138453],\n",
       "       [0.06849751, 1.        , 0.05707625, ..., 0.0401657 , 0.06139804,\n",
       "        0.08307346],\n",
       "       [0.02936376, 0.05707625, 1.        , ..., 0.05375855, 0.03362548,\n",
       "        0.01953145],\n",
       "       ...,\n",
       "       [0.04936903, 0.0401657 , 0.05375855, ..., 1.        , 0.02846571,\n",
       "        0.02434483],\n",
       "       [0.04225582, 0.06139804, 0.03362548, ..., 0.02846571, 1.        ,\n",
       "        0.03308925],\n",
       "       [0.04138453, 0.08307346, 0.01953145, ..., 0.02434483, 0.03308925,\n",
       "        1.        ]])"
      ]
     },
     "execution_count": 12,
     "metadata": {},
     "output_type": "execute_result"
    }
   ],
   "source": [
    "similarity = cosine_similarity(df_vetorizado)\n",
    "similarity"
   ]
  },
  {
   "cell_type": "code",
   "execution_count": 20,
   "metadata": {},
   "outputs": [],
   "source": [
    "def recomendation_system(movie):\n",
    "    id_of_movie = df_filmes_process[df_filmes_process['titulo']==movie].index[0]\n",
    "    distances = similarity[id_of_movie]\n",
    "    movie_list = sorted(list(enumerate(distances)), reverse=True, key=lambda x:x[1])[1:15]\n",
    "    for movie_id in movie_list:\n",
    "        print(df_filmes_process.iloc[movie_id[0]].titulo)"
   ]
  },
  {
   "cell_type": "code",
   "execution_count": 23,
   "metadata": {},
   "outputs": [
    {
     "name": "stdout",
     "output_type": "stream",
     "text": [
      "The Godfather Part II\n",
      "The Godfather Part III\n",
      "The Replacement Killers\n",
      "Shoplifters\n",
      "Blood Ties\n",
      "Kind Hearts and Coronets\n",
      "Joe\n",
      "Sansho the Bailiff\n",
      "SPL: Kill Zone\n",
      "The Best of Youth\n",
      "Loose Cannons\n",
      "The Color Purple\n",
      "3 Ninjas\n",
      "The Beastmaster\n"
     ]
    }
   ],
   "source": [
    "recomendation_system('The Godfather')"
   ]
  }
 ],
 "metadata": {
  "kernelspec": {
   "display_name": "env",
   "language": "python",
   "name": "python3"
  },
  "language_info": {
   "codemirror_mode": {
    "name": "ipython",
    "version": 3
   },
   "file_extension": ".py",
   "mimetype": "text/x-python",
   "name": "python",
   "nbconvert_exporter": "python",
   "pygments_lexer": "ipython3",
   "version": "3.9.11"
  },
  "orig_nbformat": 4
 },
 "nbformat": 4,
 "nbformat_minor": 2
}
